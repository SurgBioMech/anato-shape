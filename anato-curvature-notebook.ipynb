{
 "cells": [
  {
   "cell_type": "markdown",
   "id": "3a41e83d",
   "metadata": {},
   "source": [
    "# `anato-curvature` in Jupyter Notebook "
   ]
  },
  {
   "cell_type": "markdown",
   "id": "1f0c2979",
   "metadata": {},
   "source": [
    "`anato_curv.py` contains the main functions for calculating the principal curvatures using python to reproduce the algorithm originally published by Simon Rusinkiewicz here: https://ieeexplore.ieee.org/abstract/document/1335277"
   ]
  },
  {
   "cell_type": "code",
   "execution_count": null,
   "id": "cce90d6b",
   "metadata": {},
   "outputs": [],
   "source": [
    "from anato_curv import *\n",
    "import warnings\n",
    "warnings.simplefilter(action='ignore', category=FutureWarning)\n",
    "warnings.simplefilter(action='ignore', category=UserWarning)"
   ]
  },
  {
   "cell_type": "code",
   "execution_count": null,
   "id": "0a8e1cd1",
   "metadata": {},
   "outputs": [],
   "source": [
    "#- Pocivavsek lab parent directory\n",
    "parent_path = 'Z:\\\\aorta\\\\thoracic'\n",
    "#- Cohort groups filter\n",
    "group_str = ['GE']\n",
    "#- Mesh formats filter\n",
    "file_str = ['M5']\n",
    "#- (Optional) Additional string appended to each file \n",
    "ext_str = ''"
   ]
  },
  {
   "cell_type": "code",
   "execution_count": null,
   "id": "859c98b3",
   "metadata": {
    "scrolled": false
   },
   "outputs": [],
   "source": [
    "#- Use this function if you meshes DO NOT contain removal masks (old v. when they are removed in ScanIP)\n",
    "anato_curv_group_old_woRemoval(parent_path, group_str, file_str, ext_str)"
   ]
  },
  {
   "cell_type": "code",
   "execution_count": null,
   "id": "7ac33107",
   "metadata": {},
   "outputs": [],
   "source": [
    "#- Use this function if you meshes DO contain removal masks parts and the algorithm should remove them (new v. when they are removed in the script)\n",
    "anato_curv_group_old_woRemoval(parent_path, group_str, file_str, ext_str)"
   ]
  }
 ],
 "metadata": {
  "kernelspec": {
   "display_name": "tf_gpu",
   "language": "python",
   "name": "python3"
  },
  "language_info": {
   "codemirror_mode": {
    "name": "ipython",
    "version": 3
   },
   "file_extension": ".py",
   "mimetype": "text/x-python",
   "name": "python",
   "nbconvert_exporter": "python",
   "pygments_lexer": "ipython3",
   "version": "3.8.19"
  }
 },
 "nbformat": 4,
 "nbformat_minor": 5
}
