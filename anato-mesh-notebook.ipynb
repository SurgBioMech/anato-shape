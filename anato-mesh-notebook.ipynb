{
 "cells": [
  {
   "cell_type": "markdown",
   "id": "26c2d210",
   "metadata": {},
   "source": [
    "# `anato-mesh` in Jupyter Notebook "
   ]
  },
  {
   "cell_type": "markdown",
   "id": "442566b4",
   "metadata": {},
   "source": [
    "`anato_mesh.py` contains the main functions for calculating the partition-level curvatures using python to reproduce the algorithm originally published by K. Khabaz here: https://journals.plos.org/ploscompbiol/article?id=10.1371/journal.pcbi.1011815"
   ]
  },
  {
   "cell_type": "code",
   "execution_count": null,
   "id": "200eda60",
   "metadata": {},
   "outputs": [],
   "source": [
    "from anato_mesh import *\n",
    "import warnings\n",
    "warnings.simplefilter(action='ignore', category=FutureWarning)\n",
    "warnings.simplefilter(action='ignore', category=UserWarning)\n",
    "warnings.simplefilter(action='ignore', category=RuntimeWarning)\n",
    "from pandas.errors import SettingWithCopyWarning\n",
    "warnings.simplefilter(action='ignore', category=SettingWithCopyWarning)"
   ]
  },
  {
   "cell_type": "code",
   "execution_count": null,
   "id": "2591b3f5",
   "metadata": {},
   "outputs": [],
   "source": [
    "#- Pocivavsek lab parent directory\n",
    "parent_path = 'Z:\\\\aorta\\\\aortas'\n",
    "#- Cohort groups filter\n",
    "group_str = ['KK', 'KY']\n",
    "#- Mesh formats filter\n",
    "file_str = ['M5', 'M10']"
   ]
  },
  {
   "cell_type": "markdown",
   "id": "0a939c43",
   "metadata": {},
   "source": [
    "| `quantities` | `point_removal` |\n",
    "| --- | --- |\n",
    "| 'Gaussian' | 'curvature' | \n",
    "| 'Casorati' | 'thoracic' | \n",
    "| 'IntMean' |\n",
    "| 'Total' |\n",
    "| 'ShapeIndex' |\n",
    "| 'Willmore' |"
   ]
  },
  {
   "cell_type": "code",
   "execution_count": null,
   "id": "dfcfcd2f",
   "metadata": {},
   "outputs": [],
   "source": [
    "quantities = ['Casorati','Total']\n",
    "point_removal = 'thoracic'"
   ]
  },
  {
   "cell_type": "markdown",
   "id": "4b3039d5",
   "metadata": {},
   "source": [
    "The number of surface partitions for each surface is determined by the following equation. `m_set` provides an easily adjustable parameter for further partition scaling and allows you to calculate more than one scaling at once. The optimized value for the thoracic aorta TEVAR dataset is `m=1`.\n",
    "\n",
    "$$partitions = m \\times \\left(\\frac{SA}{R^2}\\right)$$"
   ]
  },
  {
   "cell_type": "code",
   "execution_count": null,
   "id": "d54bd4c2",
   "metadata": {},
   "outputs": [],
   "source": [
    "m_set = [0.5, 1, 5]"
   ]
  },
  {
   "cell_type": "code",
   "execution_count": null,
   "id": "09e50d03",
   "metadata": {
    "scrolled": false
   },
   "outputs": [],
   "source": [
    "results = GetAortaMeshResults(parent_path, group_str, file_str, point_removal, quantities, m_set)"
   ]
  },
  {
   "cell_type": "code",
   "execution_count": null,
   "id": "b55d5d20",
   "metadata": {},
   "outputs": [],
   "source": [
    "results"
   ]
  },
  {
   "cell_type": "code",
   "execution_count": null,
   "id": "c69382ef",
   "metadata": {},
   "outputs": [],
   "source": [
    "#- Meta data integration \n",
    "directory = 'Z:\\\\aorta\\\\meta_data'\n",
    "file_name = 'MasterMetaData.xlsx'\n",
    "#- Cohort meta data group names\n",
    "cohort_list = ['UC_NORMAL', 'UC_TEVAR']\n",
    "#- Categorical labels \n",
    "cat_columns = ['Outcome', 'Label', 'Chronicity']"
   ]
  },
  {
   "cell_type": "code",
   "execution_count": null,
   "id": "435c1fc5",
   "metadata": {},
   "outputs": [],
   "source": [
    "results_norm = GroupsNormalize(SplitUpScanName(results), 'Casorati_Mean', 'Total_Fluct', 'KY')"
   ]
  },
  {
   "cell_type": "code",
   "execution_count": null,
   "id": "c4815197",
   "metadata": {},
   "outputs": [],
   "source": [
    "results_meta = MergeMetaData(directory, file_name, cohort_list, results_norm, cat_columns)"
   ]
  },
  {
   "cell_type": "code",
   "execution_count": null,
   "id": "4588d881",
   "metadata": {},
   "outputs": [],
   "source": [
    "SaveToXLSX('Z:\\\\aorta\\\\projects\\\\chronicity', 'Chron_Fall24.xlsx', results_meta)"
   ]
  }
 ],
 "metadata": {
  "kernelspec": {
   "display_name": "Python 3 (ipykernel)",
   "language": "python",
   "name": "python3"
  },
  "language_info": {
   "codemirror_mode": {
    "name": "ipython",
    "version": 3
   },
   "file_extension": ".py",
   "mimetype": "text/x-python",
   "name": "python",
   "nbconvert_exporter": "python",
   "pygments_lexer": "ipython3",
   "version": "3.11.7"
  }
 },
 "nbformat": 4,
 "nbformat_minor": 5
}
