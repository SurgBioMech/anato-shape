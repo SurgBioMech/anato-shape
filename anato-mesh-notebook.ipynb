{
 "cells": [
  {
   "cell_type": "markdown",
   "id": "26c2d210",
   "metadata": {},
   "source": [
    "# `anato-mesh` in Jupyter Notebook "
   ]
  },
  {
   "cell_type": "markdown",
   "id": "442566b4",
   "metadata": {},
   "source": [
    "`anato_mesh.py` contains the main functions for calculating the partition-level curvatures using python to reproduce the algorithm originally published by K. Khabaz here: https://journals.plos.org/ploscompbiol/article?id=10.1371/journal.pcbi.1011815"
   ]
  },
  {
   "cell_type": "code",
   "execution_count": 1,
   "id": "200eda60",
   "metadata": {},
   "outputs": [],
   "source": [
    "from anato_mesh import *\n",
    "from anato_viz import *\n",
    "import plotly.express as px\n",
    "import warnings\n",
    "warnings.simplefilter(action='ignore', category=FutureWarning)\n",
    "warnings.simplefilter(action='ignore', category=UserWarning)\n",
    "warnings.simplefilter(action='ignore', category=RuntimeWarning)"
   ]
  },
  {
   "cell_type": "code",
   "execution_count": 14,
   "id": "2591b3f5",
   "metadata": {},
   "outputs": [],
   "source": [
    "#- Pocivavsek lab parent directory\n",
    "parent_path = r'Z:\\aorta\\thoracic'\n",
    "#- Cohort filter\n",
    "group_str = ['KP', 'KT', 'SA']\n",
    "file_str = ['SA20_1', 'SA25_1', 'SA41_1', 'SA49_1', 'KP31_3', 'KP16_8', 'KP16_6', 'KT4_1', 'KT9_2', 'KT22_1', 'KT25_1', 'KP4_3', 'KP3_2', 'KT11_1']\n",
    "#- Mesh filter\n",
    "#file_str = ['M1.', 'M5.', 'M10.']"
   ]
  },
  {
   "cell_type": "markdown",
   "id": "be23ef04",
   "metadata": {},
   "source": [
    "$$\n",
    "\\begin{array}{|c|c|}\n",
    "\\hline\n",
    "\\textbf{Quantities} & \\textbf{Equation} \\\\\n",
    "\\hline\n",
    "\\text{Gaussian} & k_1 \\cdot k_2 \\\\\n",
    "\\hline\n",
    "\\text{Mean} & 0.5 \\cdot (k_1 + k_2) \\\\\n",
    "\\hline\n",
    "\\text{IntGaussian} & (k_1 \\cdot k_2) \\cdot A \\\\\n",
    "\\hline\n",
    "\\text{IntMeanSquared} & \\left(0.5 \\cdot (k_1 + k_2)\\right)^2 \\cdot A \\\\\n",
    "\\hline\n",
    "\\text{Willmore} & 4 \\cdot \\left(0.5 \\cdot (k_1 + k_2)\\right)^2 - 2 \\cdot (k_1 \\cdot k_2) \\\\\n",
    "\\hline\n",
    "\\text{IntWillmore} & 4 \\cdot \\left(0.5 \\cdot (k_1 + k_2)\\right)^2 \\cdot A - 2 \\cdot (k_1 \\cdot k_2) \\cdot A \\\\\n",
    "\\hline\n",
    "\\text{Casorati} & \\sqrt{0.5 \\cdot (k_1^2 + k_2^2)} \\\\\n",
    "\\hline\n",
    "\\text{ShapeIndex} & \\frac{2}{\\pi} \\cdot \\arctan\\left(\\frac{k_2 + k_1}{k_2 - k_1}\\right) \\\\\n",
    "\\hline\n",
    "\\end{array}\n",
    "$$\n",
    "\n"
   ]
  },
  {
   "cell_type": "markdown",
   "id": "6e067114",
   "metadata": {},
   "source": [
    "You must specify at least one variable in `quantitites` and must also define the `point_removal` method. When in doubt, use the `curvature` method because it is applicable to all geometries. The `thoracic` specific point removal process is still buggy, overly empirical, and is being fixed. If the mesh is ready to be processed as is, then set `None`."
   ]
  },
  {
   "cell_type": "code",
   "execution_count": 15,
   "id": "dfcfcd2f",
   "metadata": {},
   "outputs": [],
   "source": [
    "quantities = ['Gaussian', 'IntGaussian', 'Casorati']\n",
    "point_removal = 'curvature'"
   ]
  },
  {
   "cell_type": "markdown",
   "id": "4b3039d5",
   "metadata": {},
   "source": [
    "The number of surface partitions for each surface is determined by the following equation. `m_set` provides an easily adjustable parameter for further partition scaling and allows you to calculate more than one scaling at once. The optimized value for the thoracic aorta TEVAR dataset is `m=1`.\n",
    "\n",
    "$$partitions = m \\times \\left(\\frac{SA}{R^2}\\right)$$"
   ]
  },
  {
   "cell_type": "code",
   "execution_count": 16,
   "id": "d54bd4c2",
   "metadata": {},
   "outputs": [],
   "source": [
    "m_set = [0.5, 1, 5]"
   ]
  },
  {
   "cell_type": "markdown",
   "id": "68967f4c",
   "metadata": {},
   "source": [
    "#### Executing the batch run: "
   ]
  },
  {
   "cell_type": "code",
   "execution_count": 17,
   "id": "09e50d03",
   "metadata": {
    "scrolled": true
   },
   "outputs": [
    {
     "name": "stdout",
     "output_type": "stream",
     "text": [
      "Organizing paths and file names:\n",
      "Adding KP16_8_M1.parquet\n",
      "Adding KP16_8_M10.parquet\n",
      "Adding KP16_8_M5.parquet\n",
      "Adding KP3_2_M1.parquet\n",
      "Adding KP3_2_M10.parquet\n",
      "Adding KP3_2_M5.parquet\n",
      "Adding KP31_3_M1.parquet\n",
      "Adding KP31_3_M10.parquet\n",
      "Adding KP31_3_M5.parquet\n",
      "Adding KP4_3_M1.parquet\n",
      "Adding KP4_3_M10.parquet\n",
      "Adding KP4_3_M5.parquet\n",
      "Adding KT11_1_M10.parquet\n",
      "Adding KT11_1_M5.parquet\n",
      "Adding KT22_1_M10.parquet\n",
      "Adding KT22_1_M5.parquet\n",
      "Adding KT25_1_M10.parquet\n",
      "Adding KT25_1_M5.parquet\n",
      "Adding KT4_1_M10.parquet\n",
      "Adding KT4_1_M5.parquet\n",
      "Adding KT9_2_M10.parquet\n",
      "Adding KT9_2_M5.parquet\n",
      "Adding SA20_1_M10.parquet\n",
      "Adding SA20_1_M5.parquet\n",
      "Adding SA25_1_M10.parquet\n",
      "Adding SA25_1_M5.parquet\n",
      "Adding SA41_1_M10.parquet\n",
      "Adding SA41_1_M5.parquet\n",
      "Adding SA49_1_M10.parquet\n",
      "Adding SA49_1_M5.parquet\n",
      "Starting GetAortaMeshResults: the top most progress bar is for all calculations and the progress bars below are for parallel processes.\n"
     ]
    },
    {
     "data": {
      "text/html": [
       "\n",
       "        <progress value='90' max='90' style='width: 100%'>90</progress>\n",
       "    "
      ],
      "text/plain": [
       "<IPython.core.display.HTML object>"
      ]
     },
     "metadata": {},
     "output_type": "display_data"
    },
    {
     "data": {
      "text/html": [
       "\n",
       "        <progress value='22' max='30' style='width: 100%'>22</progress>\n",
       "    "
      ],
      "text/plain": [
       "<IPython.core.display.HTML object>"
      ]
     },
     "metadata": {},
     "output_type": "display_data"
    },
    {
     "data": {
      "text/html": [
       "\n",
       "        <progress value='26' max='30' style='width: 100%'>26</progress>\n",
       "    "
      ],
      "text/plain": [
       "<IPython.core.display.HTML object>"
      ]
     },
     "metadata": {},
     "output_type": "display_data"
    },
    {
     "data": {
      "text/html": [
       "\n",
       "        <progress value='22' max='30' style='width: 100%'>22</progress>\n",
       "    "
      ],
      "text/plain": [
       "<IPython.core.display.HTML object>"
      ]
     },
     "metadata": {},
     "output_type": "display_data"
    },
    {
     "name": "stdout",
     "output_type": "stream",
     "text": [
      "For KP16_8_M1.parquet, num_patches set to 58 with 103778 elements.\n",
      "For KP16_8_M1.parquet, num_patches set to 585 with 103778 elements.\n",
      "For KP16_8_M1.parquet, num_patches set to 117 with 103778 elements.\n",
      "For KP16_8_M10.parquet, num_patches set to 110 with 10608 elements.\n",
      "For KP16_8_M10.parquet, num_patches set to 55 with 10608 elements.\n",
      "For KP16_8_M5.parquet, num_patches set to 113 with 20654 elements.\n",
      "For KP16_8_M10.parquet, num_patches set to 550 with 10608 elements.\n",
      "For KP16_8_M5.parquet, num_patches set to 56 with 20654 elements.\n",
      "For KP16_8_M5.parquet, num_patches set to 565 with 20654 elements.\n",
      "For KP3_2_M1.parquet, num_patches set to 112 with 139399 elements.\n",
      "For KP3_2_M1.parquet, num_patches set to 56 with 139399 elements.\n",
      "For KP3_2_M1.parquet, num_patches set to 560 with 139399 elements.\n",
      "For KP3_2_M10.parquet, num_patches set to 54 with 12566 elements.\n",
      "For KP3_2_M10.parquet, num_patches set to 108 with 12566 elements.\n",
      "For KP3_2_M5.parquet, num_patches set to 55 with 24874 elements.\n",
      "For KP3_2_M5.parquet, num_patches set to 110 with 24874 elements.\n",
      "For KP3_2_M10.parquet, num_patches set to 540 with 12566 elements.\n",
      "For KP31_3_M1.parquet, num_patches set to 65 with 111656 elements.\n",
      "For KP31_3_M1.parquet, num_patches set to 131 with 111656 elements.\n",
      "For KP3_2_M5.parquet, num_patches set to 550 with 24874 elements.\n",
      "For KP31_3_M1.parquet, num_patches set to 655 with 111656 elements.\n",
      "For KP31_3_M10.parquet, num_patches set to 63 with 10152 elements.\n",
      "For KP31_3_M10.parquet, num_patches set to 127 with 10152 elements.\n",
      "For KP31_3_M5.parquet, num_patches set to 64 with 20323 elements.\n",
      "For KP31_3_M5.parquet, num_patches set to 128 with 20323 elements.\n",
      "For KP4_3_M1.parquet, num_patches set to 71 with 138026 elements.\n",
      "For KP4_3_M1.parquet, num_patches set to 143 with 138026 elements.\n",
      "For KP31_3_M10.parquet, num_patches set to 635 with 10152 elements.\n",
      "For KP31_3_M5.parquet, num_patches set to 640 with 20323 elements.\n",
      "For KP4_3_M1.parquet, num_patches set to 715 with 138026 elements.\n",
      "For KP4_3_M10.parquet, num_patches set to 66 with 13726 elements.\n",
      "For KP4_3_M10.parquet, num_patches set to 133 with 13726 elements.\n",
      "For KP4_3_M5.parquet, num_patches set to 69 with 27048 elements.\n",
      "For KP4_3_M5.parquet, num_patches set to 138 with 27048 elements.\n",
      "For KT11_1_M10.parquet, num_patches set to 74 with 12533 elements.\n",
      "For KT11_1_M10.parquet, num_patches set to 148 with 12533 elements.\n",
      "For KT11_1_M5.parquet, num_patches set to 80 with 26078 elements.\n",
      "For KT11_1_M5.parquet, num_patches set to 161 with 26078 elements.\n",
      "For KP4_3_M10.parquet, num_patches set to 665 with 13726 elements.\n",
      "For KP4_3_M5.parquet, num_patches set to 690 with 27048 elements.\n",
      "For KT22_1_M10.parquet, num_patches set to 45 with 13657 elements.\n",
      "For KT22_1_M10.parquet, num_patches set to 91 with 13657 elements.\n",
      "For KT22_1_M5.parquet, num_patches set to 46 with 27233 elements.\n",
      "For KT22_1_M5.parquet, num_patches set to 92 with 27233 elements.\n",
      "For KT11_1_M10.parquet, num_patches set to 740 with 12533 elements.\n",
      "For KT25_1_M10.parquet, num_patches set to 59 with 8921 elements.\n",
      "For KT25_1_M10.parquet, num_patches set to 119 with 8921 elements.\n",
      "For KT11_1_M5.parquet, num_patches set to 805 with 26078 elements.\n",
      "For KT25_1_M5.parquet, num_patches set to 59 with 17915 elements.\n",
      "For KT25_1_M5.parquet, num_patches set to 118 with 17915 elements.\n",
      "For KT4_1_M10.parquet, num_patches set to 70 with 11886 elements.\n",
      "For KT4_1_M10.parquet, num_patches set to 140 with 11886 elements.\n",
      "For KT4_1_M5.parquet, num_patches set to 69 with 23614 elements.\n",
      "For KT4_1_M5.parquet, num_patches set to 139 with 23614 elements.\n",
      "For KT22_1_M10.parquet, num_patches set to 455 with 13657 elements.\n",
      "For KT9_2_M10.parquet, num_patches set to 45 with 10304 elements.\n",
      "For KT9_2_M10.parquet, num_patches set to 91 with 10304 elements.\n",
      "For KT22_1_M5.parquet, num_patches set to 460 with 27233 elements.\n",
      "For KT9_2_M5.parquet, num_patches set to 50 with 21709 elements.\n",
      "For KT9_2_M5.parquet, num_patches set to 100 with 21709 elements.\n",
      "Skipping SA20_1_M10.parquet: SA scan without M5. or m != 1 (m=0.5)\n",
      "Skipping SA20_1_M5.parquet: SA scan without M5. or m != 1 (m=0.5)\n",
      "Skipping SA25_1_M10.parquet: SA scan without M5. or m != 1 (m=0.5)\n",
      "Skipping SA25_1_M5.parquet: SA scan without M5. or m != 1 (m=0.5)\n",
      "Skipping SA41_1_M10.parquet: SA scan without M5. or m != 1 (m=0.5)\n",
      "Skipping SA41_1_M5.parquet: SA scan without M5. or m != 1 (m=0.5)\n",
      "Skipping SA49_1_M10.parquet: SA scan without M5. or m != 1 (m=0.5)\n",
      "Skipping SA49_1_M5.parquet: SA scan without M5. or m != 1 (m=0.5)\n",
      "Skipping SA20_1_M10.parquet: SA scan without M5. or m != 1 (m=1)\n",
      "For SA20_1_M5.parquet, num_patches set to 275 with 4294 elements.\n",
      "Skipping SA25_1_M10.parquet: SA scan without M5. or m != 1 (m=1)\n",
      "For SA25_1_M5.parquet, num_patches set to 194 with 6060 elements.\n",
      "Skipping SA41_1_M10.parquet: SA scan without M5. or m != 1 (m=1)\n",
      "For SA41_1_M5.parquet, num_patches set to 181 with 5628 elements.\n",
      "For KT25_1_M10.parquet, num_patches set to 595 with 8921 elements.\n",
      "Skipping SA49_1_M10.parquet: SA scan without M5. or m != 1 (m=1)\n",
      "For SA49_1_M5.parquet, num_patches set to 180 with 8628 elements.\n",
      "For KT25_1_M5.parquet, num_patches set to 590 with 17915 elements.\n",
      "For KT4_1_M10.parquet, num_patches set to 700 with 11886 elements.\n",
      "For KT4_1_M5.parquet, num_patches set to 695 with 23614 elements.\n",
      "For KT9_2_M10.parquet, num_patches set to 455 with 10304 elements.\n",
      "For KT9_2_M5.parquet, num_patches set to 500 with 21709 elements.\n",
      "Skipping SA20_1_M10.parquet: SA scan without M5. or m != 1 (m=5)\n",
      "Skipping SA20_1_M5.parquet: SA scan without M5. or m != 1 (m=5)\n",
      "Skipping SA25_1_M10.parquet: SA scan without M5. or m != 1 (m=5)\n",
      "Skipping SA25_1_M5.parquet: SA scan without M5. or m != 1 (m=5)\n",
      "Skipping SA41_1_M10.parquet: SA scan without M5. or m != 1 (m=5)\n",
      "Skipping SA41_1_M5.parquet: SA scan without M5. or m != 1 (m=5)\n",
      "Skipping SA49_1_M10.parquet: SA scan without M5. or m != 1 (m=5)\n",
      "Skipping SA49_1_M5.parquet: SA scan without M5. or m != 1 (m=5)\n",
      "Finished.\n"
     ]
    }
   ],
   "source": [
    "results, scan_dict = GetAnatoMeshResults(parent_path, group_str, file_str, point_removal, quantities, m_set)"
   ]
  },
  {
   "cell_type": "markdown",
   "id": "1bad825b",
   "metadata": {},
   "source": [
    "### If you just want data, stop here. \n",
    "#### Everything after this are postprocessing steps including normalization, meta-data integration, visualization, and exporting."
   ]
  },
  {
   "cell_type": "markdown",
   "id": "f7a66258",
   "metadata": {},
   "source": [
    "Normalizing the results. This works by first splitting up the compound name using the `SplitUpScanName` function and then normalizing the variables in the 2nd and 3rd function inputs to the `GroupsNormalize` function by the group of datapoints that contain the string sequence in the 4th function input. This is normally `KY` patients for TEVAR and `JX` patients for EVAR in our data. "
   ]
  },
  {
   "cell_type": "code",
   "execution_count": null,
   "id": "435c1fc5",
   "metadata": {},
   "outputs": [],
   "source": [
    "norm_group = 'KY'\n",
    "xaxis_var = 'Casorati_Mean'\n",
    "yaxis_var = 'IntGaussian_Fluct'\n",
    "results_norm = GroupsNormalize(SplitUpScanName(results), xaxis_var, yaxis_var, norm_group)"
   ]
  },
  {
   "cell_type": "markdown",
   "id": "e39c9123",
   "metadata": {},
   "source": [
    "Merging meta data files into the anato-mesh results."
   ]
  },
  {
   "cell_type": "code",
   "execution_count": null,
   "id": "c69382ef",
   "metadata": {},
   "outputs": [],
   "source": [
    "#- Meta data integration \n",
    "directory = 'Z:\\\\aorta\\\\meta_data'\n",
    "file_name = 'MetaThoracic.xlsx'\n",
    "\n",
    "#- Cohort meta data group names\n",
    "cohort_list = ['UC_NORMAL', 'UC_PEDS', 'UC_TEVAR', 'ENDOSPAN', 'MEDTRONIC', 'GORE_801', 'GORE_802', 'GORE_803']\n",
    "\n",
    "#- Integer columns to be converted to strings for discrete visualization\n",
    "cat_columns = ['Label', 'Outcome']"
   ]
  },
  {
   "cell_type": "code",
   "execution_count": null,
   "id": "c4815197",
   "metadata": {},
   "outputs": [],
   "source": [
    "results_meta = MergeMetaData(directory, file_name, cohort_list, results_norm, cat_columns)"
   ]
  },
  {
   "cell_type": "markdown",
   "id": "cbfd00f1",
   "metadata": {},
   "source": [
    "Ploting and saving the data. "
   ]
  },
  {
   "cell_type": "code",
   "execution_count": null,
   "id": "a63c3301",
   "metadata": {},
   "outputs": [],
   "source": [
    "fig = px.scatter(results_meta, x='Mean_Radius', y='IntGaussian_Fluct_Norm', color='Label', hover_data=['ScanName'])\n",
    "fig.show()"
   ]
  },
  {
   "cell_type": "code",
   "execution_count": null,
   "id": "4588d881",
   "metadata": {},
   "outputs": [],
   "source": [
    "SaveResultsToXLSX(r'Z:\\aorta\\datasets', 'AllScaleSampledSpring25.xlsx', results)"
   ]
  },
  {
   "cell_type": "code",
   "execution_count": null,
   "id": "83c1fbd5",
   "metadata": {},
   "outputs": [],
   "source": [
    "SaveScanDictToXLSX(r'Z:\\aorta\\...', 'per_patch_data.xlsx', scan_dict) "
   ]
  }
 ],
 "metadata": {
  "kernelspec": {
   "display_name": "tf_gpu",
   "language": "python",
   "name": "python3"
  },
  "language_info": {
   "codemirror_mode": {
    "name": "ipython",
    "version": 3
   },
   "file_extension": ".py",
   "mimetype": "text/x-python",
   "name": "python",
   "nbconvert_exporter": "python",
   "pygments_lexer": "ipython3",
   "version": "3.8.19"
  }
 },
 "nbformat": 4,
 "nbformat_minor": 5
}
