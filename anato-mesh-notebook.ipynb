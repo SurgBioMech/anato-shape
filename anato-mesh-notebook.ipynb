{
 "cells": [
  {
   "cell_type": "markdown",
   "id": "26c2d210",
   "metadata": {},
   "source": [
    "# `anato-mesh` in Jupyter Notebook "
   ]
  },
  {
   "cell_type": "markdown",
   "id": "442566b4",
   "metadata": {},
   "source": [
    "`anato_mesh.py` contains the main functions for calculating the partition-level curvatures using python to reproduce the algorithm originally published by K. Khabaz here: https://journals.plos.org/ploscompbiol/article?id=10.1371/journal.pcbi.1011815"
   ]
  },
  {
   "cell_type": "code",
   "execution_count": 1,
   "id": "200eda60",
   "metadata": {},
   "outputs": [],
   "source": [
    "from anato_mesh import *\n",
    "from anato_viz import *\n",
    "import plotly.express as px\n",
    "import warnings\n",
    "#from pandas.errors import SettingWithCopyWarning\n",
    "warnings.simplefilter(action='ignore', category=FutureWarning)\n",
    "warnings.simplefilter(action='ignore', category=UserWarning)\n",
    "warnings.simplefilter(action='ignore', category=RuntimeWarning)\n",
    "#warnings.simplefilter(action='ignore', category=SettingWithCopyWarning)"
   ]
  },
  {
   "cell_type": "code",
   "execution_count": 2,
   "id": "2591b3f5",
   "metadata": {},
   "outputs": [],
   "source": [
    "#- Pocivavsek lab parent directory\n",
    "parent_path = 'Z:\\\\aorta\\\\thoracic'\n",
    "#- Cohort filter\n",
    "group_str = ['GE']\n",
    "#- Mesh filter\n",
    "file_str = ['M10']"
   ]
  },
  {
   "cell_type": "markdown",
   "id": "be23ef04",
   "metadata": {},
   "source": [
    "<table>\n",
    "    <tr>\n",
    "        <th style=\"text-align:center\">quantities</th>\n",
    "        <th style=\"text-align:center\">Equation</th>\n",
    "    </tr>\n",
    "    <tr>\n",
    "        <td style=\"text-align:center\">'Gaussian'</td>\n",
    "        <td style=\"text-align:center\">$$\\displaystyle k_1 \\cdot k_2$$</td>\n",
    "    </tr>\n",
    "    <tr>\n",
    "        <td style=\"text-align:center\">'Mean'</td>\n",
    "        <td style=\"text-align:center\">$$\\displaystyle 0.5 \\cdot (k_1 + k_2)$$</td>\n",
    "    </tr>\n",
    "    <tr>\n",
    "        <td style=\"text-align:center\">'IntGaussian'</td>\n",
    "        <td style=\"text-align:center\">$$\\displaystyle (k_1 \\cdot k_2) \\cdot A$$</td>\n",
    "    </tr>\n",
    "    <tr>\n",
    "        <td style=\"text-align:center\">'IntMeanSquared'</td>\n",
    "        <td style=\"text-align:center\">$$\\displaystyle \\left(0.5 \\cdot (k_1 + k_2)\\right)^2 \\cdot A$$</td>\n",
    "    </tr>\n",
    "    <tr>\n",
    "        <td style=\"text-align:center\">'Willmore'</td>\n",
    "        <td style=\"text-align:center\">$$\\displaystyle 4 \\cdot \\left(0.5 \\cdot (k_1 + k_2)\\right)^2 \\cdot A - 2 \\cdot (k_1 \\cdot k_2) \\cdot A$$</td>\n",
    "    </tr>\n",
    "    <tr>\n",
    "        <td style=\"text-align:center\">'Casorati'</td>\n",
    "        <td style=\"text-align:center\">$$\\displaystyle \\sqrt{0.5 \\cdot (k_1^2 + k_2^2)}$$</td>\n",
    "    </tr>\n",
    "    <tr>\n",
    "        <td style=\"text-align:center\">'ShapeIndex'</td>\n",
    "        <td style=\"text-align:center\">$$\\displaystyle \\frac{2}{\\pi} \\cdot \\arctan\\left(\\frac{k_2 + k_1}{k_2 - k_1}\\right)$$</td>\n",
    "    </tr>\n",
    "</table>\n"
   ]
  },
  {
   "cell_type": "markdown",
   "id": "6e067114",
   "metadata": {},
   "source": [
    "You must specify at least one variable in `quantitites` and must also define the `point_removal` method. When in doubt, use the `curvature` method because it is applicable to all geometries. The `thoracic` specific point removal process is still buggy, overly empirical, and is being fixed. "
   ]
  },
  {
   "cell_type": "code",
   "execution_count": 3,
   "id": "dfcfcd2f",
   "metadata": {},
   "outputs": [],
   "source": [
    "quantities = ['Gaussian', 'Mean', 'IntGaussian', 'IntMeanSquared', 'Willmore', 'Casorati', 'ShapeIndex']\n",
    "point_removal = 'curvature'"
   ]
  },
  {
   "cell_type": "markdown",
   "id": "4b3039d5",
   "metadata": {},
   "source": [
    "The number of surface partitions for each surface is determined by the following equation. `m_set` provides an easily adjustable parameter for further partition scaling and allows you to calculate more than one scaling at once. The optimized value for the thoracic aorta TEVAR dataset is `m=1`.\n",
    "\n",
    "$$partitions = m \\times \\left(\\frac{SA}{R^2}\\right)$$"
   ]
  },
  {
   "cell_type": "code",
   "execution_count": 4,
   "id": "d54bd4c2",
   "metadata": {},
   "outputs": [],
   "source": [
    "m_set = [5]"
   ]
  },
  {
   "cell_type": "markdown",
   "id": "68967f4c",
   "metadata": {},
   "source": [
    "#### Executing the batch run: "
   ]
  },
  {
   "cell_type": "code",
   "execution_count": 5,
   "id": "09e50d03",
   "metadata": {
    "scrolled": true
   },
   "outputs": [
    {
     "name": "stdout",
     "output_type": "stream",
     "text": [
      "Organizing paths and file names:\n",
      "Adding KK1_1_M10.parquet\n",
      "Adding KK12_7_M10.parquet\n",
      "Adding KK16_6_M10.parquet\n",
      "Adding KK23_5_M10.parquet\n",
      "Adding KK32_0_M10.parquet\n",
      "Adding KY4_1_M10.parquet\n",
      "Adding KY7_1_M10.parquet\n",
      "Adding SA2_1_M10.parquet\n",
      "Starting GetAortaMeshResults: the top most progress bar is for all calculations and the progress bars below are for parallel processes.\n"
     ]
    },
    {
     "data": {
      "text/html": [
       "\n",
       "        <progress value='8' max='8' style='width: 100%'>8</progress>\n",
       "    "
      ],
      "text/plain": [
       "<IPython.core.display.HTML object>"
      ]
     },
     "metadata": {},
     "output_type": "display_data"
    },
    {
     "data": {
      "text/html": [
       "\n",
       "        <progress value='8' max='8' style='width: 100%'>8</progress>\n",
       "    "
      ],
      "text/plain": [
       "<IPython.core.display.HTML object>"
      ]
     },
     "metadata": {},
     "output_type": "display_data"
    },
    {
     "name": "stdout",
     "output_type": "stream",
     "text": [
      "Finished.\n"
     ]
    }
   ],
   "source": [
    "results, scan_dict = GetAnatoMeshResults(parent_path, group_str, file_str, point_removal, quantities, m_set)"
   ]
  },
  {
   "cell_type": "code",
   "execution_count": 6,
   "id": "75a923ad",
   "metadata": {},
   "outputs": [
    {
     "data": {
      "text/plain": [
       "{5: {'KK1_1_M10':              X           Y           Z  Gaussian      Mean  IntGaussian  \\\n",
       "  0    -6.442200  155.093293  184.662005 -0.000026  0.017236    -0.002680   \n",
       "  1    62.721240  170.646527   72.968562  0.000061  0.018899     0.004933   \n",
       "  2    -0.071497  160.047360   31.627558 -0.000333  0.018334    -0.029324   \n",
       "  3    25.432397  209.187738  139.239527  0.000016  0.012443     0.001668   \n",
       "  4   -41.184561  107.595722  150.373040  0.000622  0.029100     0.080596   \n",
       "  ..         ...         ...         ...       ...       ...          ...   \n",
       "  545  -8.198028  127.932783   -3.361545  0.000235  0.018351     0.021917   \n",
       "  546  50.842352  210.721902  172.958075  0.000280  0.022316     0.021629   \n",
       "  547  71.840505  188.440181   92.012413 -0.000501  0.023497    -0.053618   \n",
       "  548  18.533862  162.345417   60.546001 -0.000806  0.017948    -0.095152   \n",
       "  549  26.559067  126.451317  175.084291  0.000045  0.027834     0.003513   \n",
       "  \n",
       "       IntMeanSquared  Willmore  Casorati  ShapeIndex  Num_Elem_per_Patch  \\\n",
       "  0          0.031084  0.129699  0.026443   -0.498004                25.0   \n",
       "  1          0.028683  0.104865  0.028393   -0.457518                18.0   \n",
       "  2          0.029586  0.176992  0.032421   -0.388349                21.0   \n",
       "  3          0.015908  0.060296  0.018163   -0.479127                25.0   \n",
       "  4          0.109750  0.277808  0.033024   -0.691072                32.0   \n",
       "  ..              ...       ...       ...         ...                 ...   \n",
       "  545        0.031450  0.081968  0.024546   -0.577003                22.0   \n",
       "  546        0.038486  0.110685  0.027715   -0.592054                18.0   \n",
       "  547        0.059113  0.343688  0.040525   -0.400456                26.0   \n",
       "  548        0.038019  0.342378  0.039664   -0.346174                31.0   \n",
       "  549        0.060306  0.234198  0.038614   -0.520191                17.0   \n",
       "  \n",
       "       Avg_Elem_per_Area  Patch_Area  \n",
       "  0             4.185304  104.632604  \n",
       "  1             4.461414   80.305445  \n",
       "  2             4.191281   88.016910  \n",
       "  3             4.110156  102.753891  \n",
       "  4             4.050100  129.603207  \n",
       "  ..                 ...         ...  \n",
       "  545           4.244835   93.386361  \n",
       "  546           4.293373   77.280719  \n",
       "  547           4.118146  107.071792  \n",
       "  548           3.807191  118.022913  \n",
       "  549           4.579011   77.843185  \n",
       "  \n",
       "  [550 rows x 13 columns],\n",
       "  'KK12_7_M10':               X           Y           Z  Gaussian      Mean  IntGaussian  \\\n",
       "  0     79.440047  171.449863  183.606681 -0.000090  0.012172    -0.014990   \n",
       "  1      8.638664  147.290601   55.461429  0.000077  0.018519     0.008331   \n",
       "  2    -52.961604  105.088786  167.198106  0.000256  0.025479     0.027182   \n",
       "  3    107.456010  185.191321   87.510528  0.000163  0.017939     0.022102   \n",
       "  4     12.944435  152.165507  -40.657380  0.000206  0.024361     0.024528   \n",
       "  ..          ...         ...         ...       ...       ...          ...   \n",
       "  635   19.844813  130.701618  154.638372 -0.000554 -0.007966    -0.061596   \n",
       "  636   55.159659  174.915313  196.073045 -0.000015  0.012331    -0.002447   \n",
       "  637   25.624613  122.549120  -51.567264  0.000083  0.018506     0.008790   \n",
       "  638    7.694136  164.557040   20.166872 -0.001649  0.001581    -0.259929   \n",
       "  639   -8.366881  130.046373  155.537495 -0.000482  0.018297    -0.072722   \n",
       "  \n",
       "       IntMeanSquared  Willmore  Casorati  ShapeIndex  Num_Elem_per_Patch  \\\n",
       "  0          0.024772  0.129068  0.021794   -0.423836                39.0   \n",
       "  1          0.037284  0.132475  0.024807   -0.539837                25.0   \n",
       "  2          0.069033  0.221767  0.032584   -0.570019                27.0   \n",
       "  3          0.043683  0.130528  0.022352   -0.601809                32.0   \n",
       "  4          0.070596  0.233327  0.033673   -0.498853                31.0   \n",
       "  ..              ...       ...       ...         ...                 ...   \n",
       "  635        0.007058  0.151425  0.029479   -0.257145                25.0   \n",
       "  636        0.024810  0.104134  0.021892   -0.470613                36.0   \n",
       "  637        0.036419  0.128096  0.025254   -0.577871                24.0   \n",
       "  638        0.000394  0.521434  0.040645   -0.083204                37.0   \n",
       "  639        0.050539  0.347601  0.034731   -0.359563                33.0   \n",
       "  \n",
       "       Avg_Elem_per_Area  Patch_Area  \n",
       "  0             4.287270  167.203517  \n",
       "  1             4.348749  108.718725  \n",
       "  2             3.938530  106.340312  \n",
       "  3             4.241968  135.742965  \n",
       "  4             3.837147  118.951560  \n",
       "  ..                 ...         ...  \n",
       "  635           4.449715  111.242872  \n",
       "  636           4.532105  163.155783  \n",
       "  637           4.431062  106.345478  \n",
       "  638           4.259704  157.609037  \n",
       "  639           4.574462  150.957252  \n",
       "  \n",
       "  [640 rows x 13 columns],\n",
       "  'KK16_6_M10':              X           Y           Z      Gaussian      Mean  IntGaussian  \\\n",
       "  0    80.059897  105.399022 -139.051304  8.014376e-04  0.034325     0.080504   \n",
       "  1    40.257292   86.885236 -171.469511 -2.405087e-07  0.025162    -0.000027   \n",
       "  2    39.718816   33.341946 -267.667907  3.106305e-04  0.021331     0.043594   \n",
       "  3    88.238724   32.243702  -81.919391  3.310925e-04  0.019385     0.041642   \n",
       "  4    48.046205   21.680390  -75.753061 -2.174664e-04  0.007671    -0.024968   \n",
       "  ..         ...         ...         ...           ...       ...          ...   \n",
       "  535  81.602741   89.053129  -84.760438  6.189280e-04  0.025634     0.071163   \n",
       "  536  90.838157   34.211482 -117.653840  1.707116e-04  0.016141     0.021666   \n",
       "  537  64.076297   13.199906  -82.868253  1.114092e-04  0.021384     0.010349   \n",
       "  538  70.470765   30.512886  -68.495023  3.611029e-04  0.020083     0.044796   \n",
       "  539  41.949720   76.627237 -182.059255 -2.534214e-04  0.017949    -0.018944   \n",
       "  \n",
       "       IntMeanSquared  Willmore  Casorati  ShapeIndex  Num_Elem_per_Patch  \\\n",
       "  0          0.118348  0.312386  0.040297   -0.662270                24.0   \n",
       "  1          0.070250  0.281053  0.035809   -0.495519                26.0   \n",
       "  2          0.063857  0.168238  0.026846   -0.601283                35.0   \n",
       "  3          0.047264  0.105769  0.021305   -0.772479                29.0   \n",
       "  4          0.006756  0.076959  0.022162   -0.391178                28.0   \n",
       "  ..              ...       ...       ...         ...                 ...   \n",
       "  535        0.075552  0.159885  0.026398   -0.853442                30.0   \n",
       "  536        0.033067  0.088934  0.021098   -0.602967                30.0   \n",
       "  537        0.042478  0.149212  0.034145   -0.558593                21.0   \n",
       "  538        0.050034  0.110544  0.022227   -0.754707                28.0   \n",
       "  539        0.024082  0.134215  0.030301   -0.401556                18.0   \n",
       "  \n",
       "       Avg_Elem_per_Area  Patch_Area  \n",
       "  0             4.185386  100.449253  \n",
       "  1             4.267726  110.960885  \n",
       "  2             4.009766  140.341804  \n",
       "  3             4.336989  125.772671  \n",
       "  4             4.100416  114.811641  \n",
       "  ..                 ...         ...  \n",
       "  535           3.832574  114.977213  \n",
       "  536           4.230544  126.916326  \n",
       "  537           4.423587   92.895336  \n",
       "  538           4.430482  124.053489  \n",
       "  539           4.152881   74.751861  \n",
       "  \n",
       "  [540 rows x 13 columns],\n",
       "  'KK23_5_M10':              X          Y           Z  Gaussian      Mean  IntGaussian  \\\n",
       "  0    39.112822  47.899785 -233.931108 -0.000178  0.028805    -0.012359   \n",
       "  1    26.561895  -5.926501 -141.327143 -0.002476  0.006646    -0.119484   \n",
       "  2    18.514545  24.893325 -282.645921  0.000040  0.025039     0.001883   \n",
       "  3    57.920024  42.558568 -141.838570 -0.001749  0.013799    -0.081253   \n",
       "  4   -14.604724 -28.711696 -145.324777  0.000816  0.032043     0.049729   \n",
       "  ..         ...        ...         ...       ...       ...          ...   \n",
       "  620 -12.501309 -36.725929 -148.952790  0.000461  0.025172     0.019394   \n",
       "  621   6.767202 -43.971079 -142.867272  0.000675  0.036217     0.042090   \n",
       "  622  29.213792  56.016056 -137.295281  0.000259  0.034916     0.009018   \n",
       "  623  28.974933  48.437242 -137.381741 -0.000235  0.033575    -0.010857   \n",
       "  624  37.848826  34.429186 -139.377082 -0.002987  0.013739    -0.150042   \n",
       "  \n",
       "       IntMeanSquared  Willmore  Casorati  ShapeIndex  Num_Elem_per_Patch  \\\n",
       "  0          0.057684  0.255452  0.042971   -0.466652                17.0   \n",
       "  1          0.002131  0.247494  0.051624   -0.111676                10.0   \n",
       "  2          0.029811  0.115477  0.034841   -0.511949                11.0   \n",
       "  3          0.008847  0.197894  0.047010   -0.179993                12.0   \n",
       "  4          0.062589  0.150896  0.035621   -0.717825                14.0   \n",
       "  ..              ...       ...       ...         ...                 ...   \n",
       "  620        0.026671  0.067898  0.028656   -0.685768                11.0   \n",
       "  621        0.081760  0.242857  0.044087   -0.619241                15.0   \n",
       "  622        0.042473  0.151856  0.046609   -0.542571                 7.0   \n",
       "  623        0.052137  0.230261  0.050809   -0.455735                11.0   \n",
       "  624        0.009482  0.338013  0.058218   -0.152254                11.0   \n",
       "  \n",
       "       Avg_Elem_per_Area  Patch_Area  \n",
       "  0             4.089346   69.518878  \n",
       "  1             4.825879   48.258792  \n",
       "  2             4.322718   47.549898  \n",
       "  3             3.872015   46.464174  \n",
       "  4             4.353991   60.955877  \n",
       "  ..                 ...         ...  \n",
       "  620           3.826695   42.093646  \n",
       "  621           4.155556   62.333337  \n",
       "  622           4.976933   34.838533  \n",
       "  623           4.204526   46.249787  \n",
       "  624           4.567023   50.237258  \n",
       "  \n",
       "  [625 rows x 13 columns],\n",
       "  'KK32_0_M10':              X           Y           Z  Gaussian      Mean  IntGaussian  \\\n",
       "  0    31.174329 -159.733518 -158.620927  0.000097  0.011504     0.015719   \n",
       "  1     6.558570 -141.369925  -73.326851 -0.001241  0.002509    -0.236910   \n",
       "  2    76.353312  -61.745598 -150.051780  0.000123  0.015751     0.026546   \n",
       "  3   -26.469274 -150.550903 -221.350821  0.000213  0.022438     0.039509   \n",
       "  4    98.109631 -138.986689  -88.201663  0.000088  0.013797     0.018249   \n",
       "  ..         ...         ...         ...       ...       ...          ...   \n",
       "  520  55.445643 -167.073058 -195.353560  0.000421  0.028571     0.064860   \n",
       "  521  -5.622188 -175.083711 -266.873722  0.000219  0.016237     0.032968   \n",
       "  522   4.064242 -157.466007  -84.004437 -0.000824  0.006096    -0.160756   \n",
       "  523   4.478751 -208.053668  -85.953343 -0.000504  0.020644    -0.083558   \n",
       "  524  41.099846  -79.173686 -125.944638 -0.000156  0.007045    -0.022171   \n",
       "  \n",
       "       IntMeanSquared  Willmore  Casorati  ShapeIndex  Num_Elem_per_Patch  \\\n",
       "  0          0.021472  0.054448  0.014465   -0.577828                36.0   \n",
       "  1          0.001201  0.478625  0.035737   -0.104680                42.0   \n",
       "  2          0.053506  0.160930  0.019455   -0.608218                52.0   \n",
       "  3          0.093467  0.294848  0.028263   -0.586313                42.0   \n",
       "  4          0.039335  0.120842  0.018034   -0.596829                51.0   \n",
       "  ..              ...       ...       ...         ...                 ...   \n",
       "  520        0.125674  0.372977  0.034839   -0.620095                39.0   \n",
       "  521        0.039700  0.092865  0.021227   -0.621248                38.0   \n",
       "  522        0.007250  0.350513  0.030817   -0.183404                46.0   \n",
       "  523        0.070608  0.449547  0.038002   -0.396241                34.0   \n",
       "  524        0.007060  0.072582  0.015950   -0.302626                31.0   \n",
       "  \n",
       "       Avg_Elem_per_Area  Patch_Area  \n",
       "  0             4.506612  162.238033  \n",
       "  1             4.544642  190.874961  \n",
       "  2             4.147531  215.671604  \n",
       "  3             4.420181  185.647615  \n",
       "  4             4.051591  206.631121  \n",
       "  ..                 ...         ...  \n",
       "  520           3.947602  153.956476  \n",
       "  521           3.962953  150.592211  \n",
       "  522           4.240872  195.080118  \n",
       "  523           4.872670  165.670794  \n",
       "  524           4.589130  142.263023  \n",
       "  \n",
       "  [525 rows x 13 columns],\n",
       "  'KY4_1_M10':              X          Y           Z  Gaussian      Mean  IntGaussian  \\\n",
       "  0    -2.511175 -11.981972 -109.643888  0.001690  0.046917     0.059179   \n",
       "  1   -39.279762  14.235892 -252.618867  0.000100  0.040785     0.003733   \n",
       "  2   -22.006223  28.199835 -168.102242  0.000339  0.041810     0.009962   \n",
       "  3   -22.061079 -25.002910 -153.756577 -0.001846  0.020826    -0.091137   \n",
       "  4   -54.054494  -7.292295 -308.213762  0.000236  0.042111     0.009134   \n",
       "  ..         ...        ...         ...       ...       ...          ...   \n",
       "  685   4.271317 -21.006466 -119.327829  0.000520  0.034148     0.019397   \n",
       "  686 -26.265373  19.252663 -208.286599 -0.000319  0.034814    -0.008719   \n",
       "  687 -33.535190 -37.127579 -163.598209  0.000242  0.013219     0.010595   \n",
       "  688   3.017967 -10.843302 -111.943972  0.003781  0.065777     0.083404   \n",
       "  689 -24.941142  13.356896 -214.579101 -0.000538  0.035473    -0.014505   \n",
       "  \n",
       "       IntMeanSquared  Willmore  Casorati  ShapeIndex  Num_Elem_per_Patch  \\\n",
       "  0          0.077079  0.189957  0.053269   -0.699449                 8.0   \n",
       "  1          0.062182  0.241261  0.056884   -0.508678                 7.0   \n",
       "  2          0.051314  0.185331  0.056196   -0.535342                 7.0   \n",
       "  3          0.021409  0.267911  0.056085   -0.244833                13.0   \n",
       "  4          0.068493  0.255706  0.057522   -0.523380                11.0   \n",
       "  ..              ...       ...       ...         ...                 ...   \n",
       "  685        0.043520  0.135287  0.042468   -0.600011                 7.0   \n",
       "  686        0.033102  0.149848  0.052390   -0.463113                 7.0   \n",
       "  687        0.007645  0.009388  0.016355   -0.700955                10.0   \n",
       "  688        0.095435  0.214933  0.069976   -0.782535                 5.0   \n",
       "  689        0.033947  0.164797  0.055280   -0.444276                 5.0   \n",
       "  \n",
       "       Avg_Elem_per_Area  Patch_Area  \n",
       "  0             4.377034   35.016274  \n",
       "  1             5.340128   37.380894  \n",
       "  2             4.193536   29.354755  \n",
       "  3             3.797122   49.362586  \n",
       "  4             3.511337   38.624704  \n",
       "  ..                 ...         ...  \n",
       "  685           5.331584   37.321085  \n",
       "  686           3.901648   27.311539  \n",
       "  687           4.374883   43.748828  \n",
       "  688           4.411599   22.057994  \n",
       "  689           5.395575   26.977874  \n",
       "  \n",
       "  [690 rows x 13 columns],\n",
       "  'KY7_1_M10':              X          Y           Z  Gaussian      Mean  IntGaussian  \\\n",
       "  0    76.970229  16.644103 -279.280330  0.000298  0.061687     0.006584   \n",
       "  1    74.628596   0.481613 -160.625409 -0.003304  0.017801    -0.065105   \n",
       "  2    87.859350  48.307140 -208.370106  0.000127  0.059329     0.002413   \n",
       "  3    82.071067  29.607895 -148.165073 -0.004720  0.026434    -0.083363   \n",
       "  4    82.471538  30.418107 -233.502294 -0.000491  0.060641    -0.004260   \n",
       "  ..         ...        ...         ...       ...       ...          ...   \n",
       "  905  66.813136 -12.427725 -186.021855  0.001045  0.033301     0.024514   \n",
       "  906  63.665232   9.098006 -159.533388 -0.001186  0.028752    -0.019716   \n",
       "  907  95.327590  35.435849 -235.585699  0.000268  0.061273     0.003436   \n",
       "  908  81.804376  45.997165 -183.609368  0.000179  0.054659     0.004008   \n",
       "  909  51.029971 -12.166761 -177.244509  0.001571  0.048970     0.032665   \n",
       "  \n",
       "       IntMeanSquared  Willmore  Casorati  ShapeIndex  Num_Elem_per_Patch  \\\n",
       "  0          0.083998  0.322825  0.085531   -0.512940                 4.0   \n",
       "  1          0.006245  0.155189  0.062802   -0.183530                 5.0   \n",
       "  2          0.066988  0.263128  0.083144   -0.505948                 4.0   \n",
       "  3          0.012340  0.216086  0.078686   -0.219981                 5.0   \n",
       "  4          0.031922  0.136207  0.088588   -0.479934                 2.0   \n",
       "  ..              ...       ...       ...         ...                 ...   \n",
       "  905        0.026018  0.055045  0.041342   -0.692063                 4.0   \n",
       "  906        0.013747  0.094420  0.053570   -0.362797                 4.0   \n",
       "  907        0.048108  0.185559  0.085127   -0.511504                 3.0   \n",
       "  908        0.066945  0.259764  0.076141   -0.510104                 4.0   \n",
       "  909        0.049851  0.134072  0.056763   -0.664540                 4.0   \n",
       "  \n",
       "       Avg_Elem_per_Area  Patch_Area  \n",
       "  0             5.518524   22.074096  \n",
       "  1             3.941408   19.707040  \n",
       "  2             4.757861   19.031443  \n",
       "  3             3.531970   17.659851  \n",
       "  4             4.340423    8.680845  \n",
       "  ..                 ...         ...  \n",
       "  905           5.865503   23.462013  \n",
       "  906           4.157152   16.628609  \n",
       "  907           4.271309   12.813926  \n",
       "  908           5.601989   22.407955  \n",
       "  909           5.197034   20.788135  \n",
       "  \n",
       "  [910 rows x 13 columns],\n",
       "  'SA2_1_M10':             X           Y           Z  Gaussian      Mean  IntGaussian  \\\n",
       "  0    2.664643  197.999298  -47.652217       NaN       NaN          NaN   \n",
       "  1   -1.524466  190.271525  -39.738246 -0.003146  0.085631    -0.021450   \n",
       "  2    4.136010  206.822937  -79.915766 -0.000401  0.118472    -0.001723   \n",
       "  3    4.260883  200.314214  -49.405970       NaN       NaN          NaN   \n",
       "  4    5.347427  204.324817 -137.497401  0.055159  0.234992     0.266765   \n",
       "  ..        ...         ...         ...       ...       ...          ...   \n",
       "  859  0.994551  207.069336 -127.141001  0.002729  0.126713     0.013202   \n",
       "  860 -6.373521  183.007573  -47.586054 -0.003669  0.064606    -0.015546   \n",
       "  861 -9.417449  182.375758  -38.616735  0.009019  0.132474     0.037532   \n",
       "  862  3.758637  214.132691  -68.474437  0.002059  0.116072     0.031596   \n",
       "  863  5.310258  212.504781  -74.513901  0.000176  0.112134     0.000844   \n",
       "  \n",
       "       IntMeanSquared  Willmore  Casorati  ShapeIndex  Num_Elem_per_Patch  \\\n",
       "  0               NaN       NaN       NaN         NaN                 0.0   \n",
       "  1          0.049991  0.242866  0.132521   -0.454280                 1.0   \n",
       "  2          0.060286  0.244591  0.168739   -0.495541                 1.0   \n",
       "  3               NaN       NaN       NaN         NaN                 0.0   \n",
       "  4          0.267064  0.534726  0.235188   -0.976577                 1.0   \n",
       "  ..              ...       ...       ...         ...                 ...   \n",
       "  859        0.077681  0.284321  0.171409   -0.529785                 1.0   \n",
       "  860        0.017685  0.101832  0.109676   -0.400289                 1.0   \n",
       "  861        0.073032  0.217066  0.162959   -0.603285                 1.0   \n",
       "  862        0.206721  0.763693  0.157930   -0.525467                 4.0   \n",
       "  863        0.060444  0.240086  0.158092   -0.501834                 1.0   \n",
       "  \n",
       "       Avg_Elem_per_Area  Patch_Area  \n",
       "  0                  NaN    0.000000  \n",
       "  1             6.817666    6.817666  \n",
       "  2             4.295282    4.295282  \n",
       "  3                  NaN    0.000000  \n",
       "  4             4.836269    4.836269  \n",
       "  ..                 ...         ...  \n",
       "  859           4.838101    4.838101  \n",
       "  860           4.237062    4.237062  \n",
       "  861           4.161555    4.161555  \n",
       "  862           3.835950   15.343802  \n",
       "  863           4.806989    4.806989  \n",
       "  \n",
       "  [864 rows x 13 columns]}}"
      ]
     },
     "execution_count": 6,
     "metadata": {},
     "output_type": "execute_result"
    }
   ],
   "source": [
    "scan_dict"
   ]
  },
  {
   "cell_type": "markdown",
   "id": "1bad825b",
   "metadata": {},
   "source": [
    "### If you just want data, stop here. \n",
    "#### Everything after this are postprocessing steps including normalization, meta-data integration, visualization, and exporting."
   ]
  },
  {
   "cell_type": "markdown",
   "id": "f7a66258",
   "metadata": {},
   "source": [
    "Normalizing the results. This works by first splitting up the compound name using the `SplitUpScanName` function and then normalizing the variables in the 2nd and 3rd function inputs to the `GroupsNormalize` function by the group of datapoints that contain the string sequence in the 4th function input. This is normally `KY` patients for TEVAR and `JX` patients for EVAR in our data. "
   ]
  },
  {
   "cell_type": "code",
   "execution_count": null,
   "id": "435c1fc5",
   "metadata": {},
   "outputs": [],
   "source": [
    "results_norm = GroupsNormalize(SplitUpScanName(results), 'Casorati_Mean', 'IntGaussian_Fluct', 'JX')"
   ]
  },
  {
   "cell_type": "markdown",
   "id": "e39c9123",
   "metadata": {},
   "source": [
    "Merging meta data files into the anato-mesh results."
   ]
  },
  {
   "cell_type": "code",
   "execution_count": null,
   "id": "c69382ef",
   "metadata": {},
   "outputs": [],
   "source": [
    "#- Meta data integration \n",
    "directory = 'Z:\\\\aorta\\\\meta_data'\n",
    "file_name = 'MasterMetaData.xlsx'\n",
    "\n",
    "#- Cohort meta data group names\n",
    "cohort_list = ['UC_NORMAL', 'UC_PEDS', 'UC_TEVAR', 'ENDOSPAN', 'MEDTRONIC', 'GORE_801', 'GORE_802', 'GORE_803']\n",
    "\n",
    "#- Integer columns to be converted to strings for discrete visualization\n",
    "cat_columns = ['Label', 'Outcome']"
   ]
  },
  {
   "cell_type": "code",
   "execution_count": null,
   "id": "c4815197",
   "metadata": {},
   "outputs": [],
   "source": [
    "results_meta = MergeMetaData(directory, file_name, cohort_list, results_norm, cat_columns)"
   ]
  },
  {
   "cell_type": "markdown",
   "id": "cbfd00f1",
   "metadata": {},
   "source": [
    "Ploting and saving the data. "
   ]
  },
  {
   "cell_type": "code",
   "execution_count": null,
   "id": "a63c3301",
   "metadata": {},
   "outputs": [],
   "source": [
    "fig = px.scatter(results_norm, x='Mean_Radius', y='Total_Fluct_Norm')#, color='Label', hover_data=['Scan_Name'])\n",
    "fig.show()"
   ]
  },
  {
   "cell_type": "code",
   "execution_count": null,
   "id": "4588d881",
   "metadata": {},
   "outputs": [],
   "source": [
    "SaveResultsToXLSX('path', 'data.xlsx', results_meta)"
   ]
  },
  {
   "cell_type": "code",
   "execution_count": null,
   "id": "83c1fbd5",
   "metadata": {},
   "outputs": [],
   "source": [
    "SaveScanDictToXLSX('path', 'scan_dict.xlsx', scan_dict) "
   ]
  }
 ],
 "metadata": {
  "kernelspec": {
   "display_name": "Python 3 (ipykernel)",
   "language": "python",
   "name": "python3"
  },
  "language_info": {
   "codemirror_mode": {
    "name": "ipython",
    "version": 3
   },
   "file_extension": ".py",
   "mimetype": "text/x-python",
   "name": "python",
   "nbconvert_exporter": "python",
   "pygments_lexer": "ipython3",
   "version": "3.8.19"
  }
 },
 "nbformat": 4,
 "nbformat_minor": 5
}
